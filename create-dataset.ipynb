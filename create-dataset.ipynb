{
 "cells": [
  {
   "cell_type": "markdown",
   "metadata": {},
   "source": [
    "## Create the Gapminder dataset"
   ]
  },
  {
   "cell_type": "code",
   "execution_count": 2,
   "metadata": {},
   "outputs": [
    {
     "ename": "ModuleNotFoundError",
     "evalue": "No module named 'pandas'",
     "output_type": "error",
     "traceback": [
      "\u001b[0;31m---------------------------------------------------------------------------\u001b[0m",
      "\u001b[0;31mModuleNotFoundError\u001b[0m                       Traceback (most recent call last)",
      "Cell \u001b[0;32mIn[2], line 2\u001b[0m\n\u001b[1;32m      1\u001b[0m \u001b[39m# Import necessary libraries\u001b[39;00m\n\u001b[0;32m----> 2\u001b[0m \u001b[39mimport\u001b[39;00m \u001b[39mpandas\u001b[39;00m \u001b[39mas\u001b[39;00m \u001b[39mpd\u001b[39;00m\n\u001b[1;32m      3\u001b[0m \u001b[39mfrom\u001b[39;00m \u001b[39mgapminder\u001b[39;00m \u001b[39mimport\u001b[39;00m gapminder\n\u001b[1;32m      5\u001b[0m \u001b[39m# Rename 'lifeExp' to 'life_expectancy' and 'gdpPercap' to 'gdp_per_capita'\u001b[39;00m\n",
      "\u001b[0;31mModuleNotFoundError\u001b[0m: No module named 'pandas'"
     ]
    }
   ],
   "source": [
    "# Import necessary libraries\n",
    "import pandas as pd\n",
    "from gapminder import gapminder\n",
    "\n",
    "# Rename 'lifeExp' to 'life_expectancy' and 'gdpPercap' to 'gdp_per_capita'\n",
    "gapminder = gapminder.rename(columns={'lifeExp': 'life_expectancy',\n",
    "                                      'pop': 'population_millions', \n",
    "                                      'gdpPercap': 'gdp_per_capita'})\n",
    "\n",
    "# Convert population to millions\n",
    "gapminder['population_millions'] = gapminder['population_millions'] / 1_000_000\n",
    "\n",
    "# Create a new pandas DataFrame from the modified gapminder data\n",
    "gapminder_df = pd.DataFrame(gapminder)\n",
    "\n",
    "# Save the DataFrame as a CSV file\n",
    "gapminder_df.to_csv('gapminder.csv', index=False)\n",
    "\n",
    "# Print the first 3 rows of the DataFrame\n",
    "print(gapminder_df.head(3))"
   ]
  }
 ],
 "metadata": {
  "kernelspec": {
   "display_name": "base",
   "language": "python",
   "name": "python3"
  },
  "language_info": {
   "codemirror_mode": {
    "name": "ipython",
    "version": 3
   },
   "file_extension": ".py",
   "mimetype": "text/x-python",
   "name": "python",
   "nbconvert_exporter": "python",
   "pygments_lexer": "ipython3",
   "version": "3.9.6"
  }
 },
 "nbformat": 4,
 "nbformat_minor": 2
}
